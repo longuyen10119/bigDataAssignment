{
 "cells": [
  {
   "cell_type": "markdown",
   "metadata": {},
   "source": [
    "# Part 3. Evaluation\n",
    "### 1. Findings of analytics\n",
    "* Our findings confirm our hypothesis at the begining that big cities generally have more job demands and also tend to pay higher as well.\n",
    "* Top 5 biggest cities make up of about 75% of the job market.\n",
    "* Sydney has the highest demands in every field except for Mining, Resouce, Energy which takes place in Perth\n",
    "* ACT the state capitol is 5th in number of job postings but pay is at the highest.\n",
    "* IT industry dominates the market while Healthcare & Medical has more sub-sectors.\n",
    "* Developers/Programmers are needed the most in IT industry.\n",
    "* Nursing - Aged care is needed the most in Healthcare & Medical\n",
    "* The job postings slow down during mid November to begining of December, so this is probably the worst time to look for a job\n",
    "* Recruitment agencies do most of the work for companies (Hays is the biggest one)\n",
    "\n",
    "\n",
    "### 2. What actions for balancing the market do you suggest based on your findings?\n",
    "* Based on results from the analysis, the job market can be balanced in a few different ways.  As it stands at the moment, the bottom five sectors in terms of job posting volume were science & technology, farming, animals & conservation, CEO & general management, advertising & media and self-employment.  It could be suggested that some of these areas (with the exception of CEO & general management which is a highly generalised area) have additional funding to increase job opportunities in the future.\n",
    "\n",
    "* From the perspective of one with limited economic knowledge, there seems to be a dispropotionate amount of wealth in terms of salary across many of the jobs.  Increasing wages in some of the lower income areas might improve quality of life of the individuals within and boost the economy at the same time.  The top 3 highest pay sectors (CEO & general management, IT and consulting & strategy) have an even more visibly extreme pay gap between them and all the other sectors.\n",
    "\n",
    "### 3. How could you refine your data analystics?\n",
    "+ The analysis presented here could be refined by introducing additional information to the dataset.  This information could be in the form of additional jobs from multiple employment sites across Australia, which may lead to a more accurate representation of the job market overall.\n",
    "\n",
    "+ Another attribute that could be examined is the population size of the regions the jobs come from.  This could be used to normalise the number of postings in proportion to the population size to get a reasonable approximation of the frequency of job availability on a per capita basis.  This might make it easier to compare between population centres with significantly less influence from population density.\n",
    "\n",
    "### 4. Implications for Employees and Employers based on the findings obtained\n",
    "* It is easy for Employers to hire agencies to do the filtering and hiring work for them as shown in Classifications and Top 20 Companies pie chart.\n",
    "* Mid Nov until Begining of December is not a good time to look for a job as shown in Time series analysis.\n",
    "* There's more chance to find a job in bigger cities"
   ]
  },
  {
   "cell_type": "code",
   "execution_count": null,
   "metadata": {},
   "outputs": [],
   "source": []
  }
 ],
 "metadata": {
  "kernelspec": {
   "display_name": "Python 3",
   "language": "python",
   "name": "python3"
  },
  "language_info": {
   "codemirror_mode": {
    "name": "ipython",
    "version": 3
   },
   "file_extension": ".py",
   "mimetype": "text/x-python",
   "name": "python",
   "nbconvert_exporter": "python",
   "pygments_lexer": "ipython3",
   "version": "3.7.1"
  }
 },
 "nbformat": 4,
 "nbformat_minor": 2
}
